{
  "cells": [
    {
      "cell_type": "markdown",
      "metadata": {},
      "source": [
        "# Imports"
      ]
    },
    {
      "cell_type": "code",
      "execution_count": 50,
      "metadata": {},
      "outputs": [],
      "source": [
        "import time \n",
        "import tracemalloc"
      ]
    },
    {
      "cell_type": "markdown",
      "metadata": {},
      "source": [
        "# Dataset"
      ]
    },
    {
      "cell_type": "code",
      "execution_count": 51,
      "metadata": {},
      "outputs": [
        {
          "name": "stdout",
          "output_type": "stream",
          "text": [
            "dataset_10\n",
            "size: 10\n",
            "total values: 56\n",
            "\n",
            "dataset_40\n",
            "size: 40\n",
            "total values: 820\n",
            "\n",
            "dataset_80\n",
            "size: 80\n",
            "total values: 3240\n",
            "\n"
          ]
        }
      ],
      "source": [
        "dataset_10 = [3, 8, 5, 11, 9, 4, 7, 2, 6, 1]\n",
        "print(f\"dataset_10\")\n",
        "print(f\"size: {len(dataset_10)}\")\n",
        "print(f\"total values: {sum(dataset_10)}\\n\")\n",
        "\n",
        "dataset_40 = [33, 3, 23, 10, 31, 38, 4, 24, 16, 29, 27, 28, 1, 11, 40, 19, 32, 9, 26, 20, 36, 30, 8, 34, 21, 35, 13, 18, 37, 7, 5, 15, 12, 25, 2, 17, 22, 14, 39, 6]\n",
        "print(f\"dataset_40\")\n",
        "print(f\"size: {len(dataset_40)}\")\n",
        "print(f\"total values: {sum(dataset_40)}\\n\")\n",
        "\n",
        "dataset_80 = [76, 62, 22, 23, 56, 27, 26, 51, 59, 57, 20, 44, 29, 80, 1, 68, 63, 34, 19, 39, 4, 53, 46, 2, 70, 43, 17, 36, 5, 60, 7, 40, 24, 6, 49, 42, 54, 11, 69, 3, 78, 79, 33, 25, 10, 18, 61, 13, 38, 47, 9, 35, 55, 66, 74, 12, 8, 50, 58, 41, 31, 14, 16, 15, 37, 72, 65, 73, 45, 75, 67, 30, 32, 28, 21, 71, 48, 77, 52, 64]\n",
        "print(f\"dataset_80\")\n",
        "print(f\"size: {len(dataset_80)}\")\n",
        "print(f\"total values: {sum(dataset_80)}\\n\")"
      ]
    },
    {
      "cell_type": "markdown",
      "metadata": {
        "id": "8ao_8sK1IV-w"
      },
      "source": [
        "# Dynamic Programming"
      ]
    },
    {
      "cell_type": "code",
      "execution_count": 52,
      "metadata": {
        "id": "RfQEoyjxIPwR"
      },
      "outputs": [],
      "source": [
        "def findPartition(arr, n):\n",
        "\t# Calculate the sum of all elements\n",
        "\ttotal_value = sum(arr)\n",
        "\n",
        "\tif total_value % 2 != 0:\n",
        "\t\treturn False\n",
        "\t\n",
        "\tdesired_total_value = total_value // 2\n",
        "\n",
        "\tpart_table = [[True for i in range(n + 1)] for j in range(desired_total_value + 1)]\n",
        "\n",
        "\t# Initialize top row as true\n",
        "\tfor i in range(0, n + 1):\n",
        "\t\tpart_table[0][i] = True\n",
        "\n",
        "\t# Initialize leftmost column, except part_table[0][0], as false\n",
        "\tfor i in range(1, desired_total_value + 1):\n",
        "\t\tpart_table[i][0] = False\n",
        "\n",
        "\t# Fill the partition table in bottom up manner\n",
        "\tfor i in range(1, desired_total_value + 1):\n",
        "\n",
        "\t\tfor j in range(1, n + 1):\n",
        "\t\t\tpart_table[i][j] = part_table[i][j - 1]\n",
        "\n",
        "\t\t\tif i >= arr[j - 1]:\n",
        "\t\t\t\tpart_table[i][j] = (part_table[i][j] or\n",
        "\t\t\t\t\t\t\tpart_table[i - arr[j - 1]][j - 1])\n",
        "\n",
        "\treturn part_table[desired_total_value][n]"
      ]
    },
    {
      "cell_type": "code",
      "execution_count": 53,
      "metadata": {},
      "outputs": [],
      "source": [
        "def dp_experiment(arr):\n",
        "    n = len(arr)\n",
        "\n",
        "    start_time = time.time()\n",
        "    tracemalloc.start()\n",
        "\n",
        "    result = findPartition(arr, n)\n",
        "\n",
        "    end_time = time.time()\n",
        "    current, peak = tracemalloc.get_traced_memory()\n",
        "    tracemalloc.stop()\n",
        "\n",
        "    print(f\"Using {n} elements:\")\n",
        "    print(f\"Time needed: {(end_time - start_time) * 1000} ms\")\n",
        "    print(f\"Highest memory usage: {peak} bytes\")\n",
        "\n",
        "    if result == True:\n",
        "        print(\"Can be divided into two subsets of equal sum\")\n",
        "    else:\n",
        "        print(\"Can not be divided into two subsets of equal sum\")"
      ]
    },
    {
      "cell_type": "code",
      "execution_count": 107,
      "metadata": {},
      "outputs": [
        {
          "name": "stdout",
          "output_type": "stream",
          "text": [
            "Using 10 elements:\n",
            "Time needed: 0.9813308715820312 ms\n",
            "Highest memory usage: 4376 bytes\n",
            "Can be divided into two subsets of equal sum\n"
          ]
        }
      ],
      "source": [
        "dp_experiment(dataset_10)"
      ]
    },
    {
      "cell_type": "code",
      "execution_count": 47,
      "metadata": {},
      "outputs": [
        {
          "name": "stdout",
          "output_type": "stream",
          "text": [
            "Using 40 elements:\n",
            "Time needed: 28.996706008911133 ms\n",
            "Highest memory usage: 194280 bytes\n",
            "Can be divided into two subsets of equal sum\n"
          ]
        }
      ],
      "source": [
        "dp_experiment(dataset_40)"
      ]
    },
    {
      "cell_type": "code",
      "execution_count": 49,
      "metadata": {},
      "outputs": [
        {
          "name": "stdout",
          "output_type": "stream",
          "text": [
            "Using 80 elements:\n",
            "Time needed: 236.94586753845215 ms\n",
            "Highest memory usage: 1295216 bytes\n",
            "Can be divided into two subsets of equal sum\n"
          ]
        }
      ],
      "source": [
        "dp_experiment(dataset_80)"
      ]
    },
    {
      "cell_type": "markdown",
      "metadata": {
        "id": "M3ulQ5UrI7XA"
      },
      "source": [
        "# Branch and Bound"
      ]
    },
    {
      "cell_type": "code",
      "execution_count": 60,
      "metadata": {
        "id": "O_ZdmQtnI_-w"
      },
      "outputs": [],
      "source": [
        "def partition_values_from_index(values, start_index, total_value, unassigned_value, test_assignment, test_value, best_assignment, best_err):\n",
        "    # If start_index is beyond the end of the array, then all entries have been assigned.\n",
        "    if start_index >= len(values):\n",
        "        # We're done. See if this assignment is better than what we have so far.\n",
        "        test_err = abs(2 * test_value - total_value)\n",
        "        if test_err < best_err[0]:\n",
        "            # This is an improvement. Save it.\n",
        "            best_err[0] = test_err\n",
        "            best_assignment[:] = test_assignment[:]\n",
        "            \n",
        "    else:\n",
        "        # See if there's any way we can assign the remaining items to improve the solution.\n",
        "        test_err = abs(2 * test_value - total_value)\n",
        "        if test_err - unassigned_value < best_err[0]:\n",
        "            # There's a chance we can make an improvement.\n",
        "            # We will now assign the next item.\n",
        "            unassigned_value -= values[start_index]\n",
        "\n",
        "            # Try adding values[start_index] to set 1.\n",
        "            test_assignment[start_index] = True\n",
        "            partition_values_from_index(values, start_index + 1, \n",
        "                                        total_value, unassigned_value, \n",
        "                                        test_assignment, test_value + values[start_index], \n",
        "                                        best_assignment, best_err)\n",
        "\n",
        "            # Try adding values[start_index] to set 2.\n",
        "            test_assignment[start_index] = False\n",
        "            partition_values_from_index(values, start_index + 1, \n",
        "                                        total_value, unassigned_value, \n",
        "                                        test_assignment, test_value, \n",
        "                                        best_assignment, best_err)"
      ]
    },
    {
      "cell_type": "code",
      "execution_count": 61,
      "metadata": {},
      "outputs": [],
      "source": [
        "def bnb_experiment(values):\n",
        "    start_index = 0\n",
        "    total_value = sum(values)\n",
        "    unassigned_value = total_value\n",
        "    test_assignment = [False] * len(values)\n",
        "    test_value = 0\n",
        "    best_assignment = [False] * len(values)\n",
        "    best_err = [float('inf')]\n",
        "\n",
        "    start_time = time.time()\n",
        "    tracemalloc.start()\n",
        "\n",
        "    partition_values_from_index(values, start_index, total_value, unassigned_value, test_assignment, test_value, best_assignment, best_err)\n",
        "\n",
        "    end_time = time.time()\n",
        "    current, peak = tracemalloc.get_traced_memory()\n",
        "    tracemalloc.stop()\n",
        "\n",
        "    print(f\"Using {len(values)} elements:\")\n",
        "    print(f\"Best error: {best_err[0]}\")\n",
        "    print(f\"Best assignment: {best_assignment}\")\n",
        "    print(f\"Time needed: {(end_time - start_time) * 1000} ms\")\n",
        "    print(f\"Highest memory usage: {peak} bytes\")"
      ]
    },
    {
      "cell_type": "code",
      "execution_count": 180,
      "metadata": {
        "colab": {
          "base_uri": "https://localhost:8080/"
        },
        "id": "RCeXtzFxKAMA",
        "outputId": "09e7f936-35a0-4f5c-d9a2-b129b2fd7eca"
      },
      "outputs": [
        {
          "name": "stdout",
          "output_type": "stream",
          "text": [
            "Using 10 elements:\n",
            "Best error: 0\n",
            "Best assignment: [True, True, True, True, False, False, False, False, False, True]\n",
            "Time needed: 2.00653076171875 ms\n",
            "Highest memory usage: 160 bytes\n"
          ]
        }
      ],
      "source": [
        "bnb_experiment(dataset_10)"
      ]
    },
    {
      "cell_type": "markdown",
      "metadata": {},
      "source": [
        "Untuk dataset_40 dan dataset_80, waktu yang dibutuhkan sangat lama, hingga lebih dari 100 menit masih belum selesai."
      ]
    },
    {
      "cell_type": "code",
      "execution_count": null,
      "metadata": {},
      "outputs": [],
      "source": [
        "bnb_experiment(dataset_40)"
      ]
    },
    {
      "cell_type": "code",
      "execution_count": null,
      "metadata": {},
      "outputs": [],
      "source": [
        "bnb_experiment(dataset_80)"
      ]
    }
  ],
  "metadata": {
    "colab": {
      "provenance": []
    },
    "kernelspec": {
      "display_name": "Python 3",
      "name": "python3"
    },
    "language_info": {
      "codemirror_mode": {
        "name": "ipython",
        "version": 3
      },
      "file_extension": ".py",
      "mimetype": "text/x-python",
      "name": "python",
      "nbconvert_exporter": "python",
      "pygments_lexer": "ipython3",
      "version": "3.11.0"
    }
  },
  "nbformat": 4,
  "nbformat_minor": 0
}
